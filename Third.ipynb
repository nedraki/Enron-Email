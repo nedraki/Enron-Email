{
 "cells": [
  {
   "cell_type": "code",
   "execution_count": 1,
   "metadata": {},
   "outputs": [],
   "source": [
    "import pandas as pd\n",
    "pd.set_option(\"display.max_rows\", 999)\n",
    "pd.set_option('max_colwidth',100)\n",
    "import numpy as np\n",
    "from IPython.display import display"
   ]
  },
  {
   "cell_type": "code",
   "execution_count": 3,
   "metadata": {},
   "outputs": [
    {
     "name": "stdout",
     "output_type": "stream",
     "text": [
      "Successfully loaded 517401 rows and 12 columns!\n"
     ]
    },
    {
     "data": {
      "text/html": [
       "<div>\n",
       "<style scoped>\n",
       "    .dataframe tbody tr th:only-of-type {\n",
       "        vertical-align: middle;\n",
       "    }\n",
       "\n",
       "    .dataframe tbody tr th {\n",
       "        vertical-align: top;\n",
       "    }\n",
       "\n",
       "    .dataframe thead th {\n",
       "        text-align: right;\n",
       "    }\n",
       "</style>\n",
       "<table border=\"1\" class=\"dataframe\">\n",
       "  <thead>\n",
       "    <tr style=\"text-align: right;\">\n",
       "      <th></th>\n",
       "      <th>file</th>\n",
       "      <th>message</th>\n",
       "      <th>Message-Body</th>\n",
       "      <th>X-From</th>\n",
       "      <th>employee</th>\n",
       "      <th>Date</th>\n",
       "      <th>Subject</th>\n",
       "      <th>X-Folder</th>\n",
       "      <th>X-To</th>\n",
       "      <th>X-cc</th>\n",
       "      <th>X-bc</th>\n",
       "      <th>X-Origin</th>\n",
       "    </tr>\n",
       "  </thead>\n",
       "  <tbody>\n",
       "    <tr>\n",
       "      <th>0</th>\n",
       "      <td>allen-p/_sent_mail/1.</td>\n",
       "      <td>Message-ID: &lt;18782981.1075855378110.JavaMail.evans@thyme&gt;\\nDate: Mon, 14 May 2001 16:39:00 -0700...</td>\n",
       "      <td>here is our forecast\\n\\n</td>\n",
       "      <td>Phillip K Allen</td>\n",
       "      <td>allen-p</td>\n",
       "      <td>2001-05-14 23:39:00+00:00</td>\n",
       "      <td>NaN</td>\n",
       "      <td>\\Phillip_Allen_Jan2002_1\\Allen, Phillip K.\\'Sent Mail</td>\n",
       "      <td>Tim Belden &lt;Tim Belden/Enron@EnronXGate&gt;</td>\n",
       "      <td>NaN</td>\n",
       "      <td>NaN</td>\n",
       "      <td>Allen-P</td>\n",
       "    </tr>\n",
       "    <tr>\n",
       "      <th>1</th>\n",
       "      <td>allen-p/_sent_mail/10.</td>\n",
       "      <td>Message-ID: &lt;15464986.1075855378456.JavaMail.evans@thyme&gt;\\nDate: Fri, 4 May 2001 13:51:00 -0700 ...</td>\n",
       "      <td>traveling to have a business meeting takes the fun out of the trip.  especially if you have to p...</td>\n",
       "      <td>Phillip K Allen</td>\n",
       "      <td>allen-p</td>\n",
       "      <td>2001-05-04 20:51:00+00:00</td>\n",
       "      <td>Re:</td>\n",
       "      <td>\\Phillip_Allen_Jan2002_1\\Allen, Phillip K.\\'Sent Mail</td>\n",
       "      <td>John J Lavorato &lt;John J Lavorato/ENRON@enronXgate@ENRON&gt;</td>\n",
       "      <td>NaN</td>\n",
       "      <td>NaN</td>\n",
       "      <td>Allen-P</td>\n",
       "    </tr>\n",
       "    <tr>\n",
       "      <th>2</th>\n",
       "      <td>allen-p/_sent_mail/100.</td>\n",
       "      <td>Message-ID: &lt;24216240.1075855687451.JavaMail.evans@thyme&gt;\\nDate: Wed, 18 Oct 2000 03:00:00 -0700...</td>\n",
       "      <td>test successful.  way to go!!!</td>\n",
       "      <td>Phillip K Allen</td>\n",
       "      <td>allen-p</td>\n",
       "      <td>2000-10-18 10:00:00+00:00</td>\n",
       "      <td>Re: test</td>\n",
       "      <td>\\Phillip_Allen_Dec2000\\Notes Folders\\'sent mail</td>\n",
       "      <td>Leah Van Arsdall</td>\n",
       "      <td>NaN</td>\n",
       "      <td>NaN</td>\n",
       "      <td>Allen-P</td>\n",
       "    </tr>\n",
       "  </tbody>\n",
       "</table>\n",
       "</div>"
      ],
      "text/plain": [
       "                      file  \\\n",
       "0    allen-p/_sent_mail/1.   \n",
       "1   allen-p/_sent_mail/10.   \n",
       "2  allen-p/_sent_mail/100.   \n",
       "\n",
       "                                                                                               message  \\\n",
       "0  Message-ID: <18782981.1075855378110.JavaMail.evans@thyme>\\nDate: Mon, 14 May 2001 16:39:00 -0700...   \n",
       "1  Message-ID: <15464986.1075855378456.JavaMail.evans@thyme>\\nDate: Fri, 4 May 2001 13:51:00 -0700 ...   \n",
       "2  Message-ID: <24216240.1075855687451.JavaMail.evans@thyme>\\nDate: Wed, 18 Oct 2000 03:00:00 -0700...   \n",
       "\n",
       "                                                                                          Message-Body  \\\n",
       "0                                                                            here is our forecast\\n\\n    \n",
       "1  traveling to have a business meeting takes the fun out of the trip.  especially if you have to p...   \n",
       "2                                                                       test successful.  way to go!!!   \n",
       "\n",
       "            X-From employee                       Date   Subject  \\\n",
       "0  Phillip K Allen  allen-p  2001-05-14 23:39:00+00:00       NaN   \n",
       "1  Phillip K Allen  allen-p  2001-05-04 20:51:00+00:00       Re:   \n",
       "2  Phillip K Allen  allen-p  2000-10-18 10:00:00+00:00  Re: test   \n",
       "\n",
       "                                                X-Folder  \\\n",
       "0  \\Phillip_Allen_Jan2002_1\\Allen, Phillip K.\\'Sent Mail   \n",
       "1  \\Phillip_Allen_Jan2002_1\\Allen, Phillip K.\\'Sent Mail   \n",
       "2        \\Phillip_Allen_Dec2000\\Notes Folders\\'sent mail   \n",
       "\n",
       "                                                       X-To X-cc  X-bc  \\\n",
       "0                  Tim Belden <Tim Belden/Enron@EnronXGate>  NaN   NaN   \n",
       "1  John J Lavorato <John J Lavorato/ENRON@enronXgate@ENRON>  NaN   NaN   \n",
       "2                                          Leah Van Arsdall  NaN   NaN   \n",
       "\n",
       "  X-Origin  \n",
       "0  Allen-P  \n",
       "1  Allen-P  \n",
       "2  Allen-P  "
      ]
     },
     "metadata": {},
     "output_type": "display_data"
    },
    {
     "name": "stdout",
     "output_type": "stream",
     "text": [
      "None\n"
     ]
    }
   ],
   "source": [
    "# taking csv prepared earlier to explore data \n",
    "\n",
    "filepath = \"email.csv\"\n",
    "# Read the data into a pandas dataframe called emails\n",
    "\n",
    "df_email = pd.read_csv(filepath)\n",
    "\n",
    "headers = [header for header in df_email.columns]\n",
    "\n",
    "print(\"Successfully loaded {} rows and {} columns!\".format(df_email.shape[0], df_email.shape[1]))\n",
    "\n",
    "print(display(df_email.head(3)))"
   ]
  },
  {
   "cell_type": "code",
   "execution_count": 4,
   "metadata": {},
   "outputs": [
    {
     "data": {
      "text/plain": [
       "file                 0\n",
       "message              0\n",
       "Message-Body         0\n",
       "X-From              29\n",
       "employee             0\n",
       "Date                 0\n",
       "Subject          19187\n",
       "X-Folder            29\n",
       "X-To              9153\n",
       "X-cc            388515\n",
       "X-bc            517401\n",
       "X-Origin            29\n",
       "dtype: int64"
      ]
     },
     "execution_count": 4,
     "metadata": {},
     "output_type": "execute_result"
    }
   ],
   "source": [
    "df_email.isna().sum()"
   ]
  },
  {
   "cell_type": "code",
   "execution_count": 5,
   "metadata": {},
   "outputs": [],
   "source": [
    "def cleanemail(email):\n",
    "    return ' '.join([s.strip() for s in email.splitlines()][15:])\n",
    "\n",
    "df_email['email-body'] = df_email['message'].apply(cleanemail)"
   ]
  },
  {
   "cell_type": "code",
   "execution_count": 6,
   "metadata": {},
   "outputs": [],
   "source": [
    "df_email = df_email.drop(columns=['message', 'file', 'X-bc'])"
   ]
  },
  {
   "cell_type": "code",
   "execution_count": 7,
   "metadata": {},
   "outputs": [
    {
     "data": {
      "text/plain": [
       "Message-Body         0\n",
       "X-From              29\n",
       "employee             0\n",
       "Date                 0\n",
       "Subject          19187\n",
       "X-Folder            29\n",
       "X-To              9153\n",
       "X-cc            388515\n",
       "X-Origin            29\n",
       "email-body           0\n",
       "dtype: int64"
      ]
     },
     "execution_count": 7,
     "metadata": {},
     "output_type": "execute_result"
    }
   ],
   "source": [
    "df_email.isna().sum()"
   ]
  },
  {
   "cell_type": "code",
   "execution_count": 19,
   "metadata": {},
   "outputs": [
    {
     "data": {
      "text/plain": [
       "datetime64[ns, UTC]"
      ]
     },
     "execution_count": 19,
     "metadata": {},
     "output_type": "execute_result"
    }
   ],
   "source": [
    "df_email['Date'] = pd.to_datetime(df_email['Date'])\n",
    "\n",
    "\n",
    "df_email['Date'].dtypes"
   ]
  },
  {
   "cell_type": "code",
   "execution_count": 44,
   "metadata": {},
   "outputs": [
    {
     "data": {
      "text/plain": [
       "\"import datetime \\n\\nd1 = datetime.datetime(1998, 1, 1) \\nd2 = datetime.datetime(2003, 1, 1) \\n\\nmask = df_email[(df_email['Date'] >= d1 and df_email['Date'] <= d2 )]\\n\\n#df_new = df.drop[df[(df['col_1'] == 1.0) & (df['col_2'] == 0.0)].index]\""
      ]
     },
     "execution_count": 44,
     "metadata": {},
     "output_type": "execute_result"
    }
   ],
   "source": [
    "# taking time frame from 1998 to 2002 \n",
    "'''import datetime \n",
    "\n",
    "d1 = datetime.datetime(1998, 1, 1) \n",
    "d2 = datetime.datetime(2003, 1, 1) \n",
    "\n",
    "mask = df_email[(df_email['Date'] >= d1 and df_email['Date'] <= d2 )]\n",
    "\n",
    "#df_new = df.drop[df[(df['col_1'] == 1.0) & (df['col_2'] == 0.0)].index]'''"
   ]
  },
  {
   "cell_type": "code",
   "execution_count": 38,
   "metadata": {},
   "outputs": [],
   "source": [
    "#Convert date column to datetime \n",
    "\n",
    "df_email[\"Date\"] = pd.to_datetime(df_email[\"Date\"])\n",
    "\n",
    "### Adding classification by year to dataframe:\n",
    "### Datetime is set as an idex and column year is added\n",
    "df_email['year'] = pd.DatetimeIndex(df_email['Date']).year\n",
    "\n",
    "#### Selection of years of interest:\n",
    "data = df_email[df_email.year > 1998]\n",
    "data = data[data.year < 2003] "
   ]
  },
  {
   "cell_type": "code",
   "execution_count": 39,
   "metadata": {},
   "outputs": [
    {
     "data": {
      "text/html": [
       "<div>\n",
       "<style scoped>\n",
       "    .dataframe tbody tr th:only-of-type {\n",
       "        vertical-align: middle;\n",
       "    }\n",
       "\n",
       "    .dataframe tbody tr th {\n",
       "        vertical-align: top;\n",
       "    }\n",
       "\n",
       "    .dataframe thead th {\n",
       "        text-align: right;\n",
       "    }\n",
       "</style>\n",
       "<table border=\"1\" class=\"dataframe\">\n",
       "  <thead>\n",
       "    <tr style=\"text-align: right;\">\n",
       "      <th></th>\n",
       "      <th>X-From</th>\n",
       "      <th>employee</th>\n",
       "      <th>Date</th>\n",
       "      <th>Subject</th>\n",
       "      <th>X-Folder</th>\n",
       "      <th>X-To</th>\n",
       "      <th>X-cc</th>\n",
       "      <th>X-Origin</th>\n",
       "      <th>email-body</th>\n",
       "      <th>year</th>\n",
       "    </tr>\n",
       "  </thead>\n",
       "  <tbody>\n",
       "    <tr>\n",
       "      <th>0</th>\n",
       "      <td>Phillip K Allen</td>\n",
       "      <td>allen-p</td>\n",
       "      <td>2001-05-14 23:39:00+00:00</td>\n",
       "      <td>NaN</td>\n",
       "      <td>\\Phillip_Allen_Jan2002_1\\Allen, Phillip K.\\'Sent Mail</td>\n",
       "      <td>Tim Belden &lt;Tim Belden/Enron@EnronXGate&gt;</td>\n",
       "      <td>NaN</td>\n",
       "      <td>Allen-P</td>\n",
       "      <td>Here is our forecast</td>\n",
       "      <td>2001</td>\n",
       "    </tr>\n",
       "    <tr>\n",
       "      <th>1</th>\n",
       "      <td>Phillip K Allen</td>\n",
       "      <td>allen-p</td>\n",
       "      <td>2001-05-04 20:51:00+00:00</td>\n",
       "      <td>Re:</td>\n",
       "      <td>\\Phillip_Allen_Jan2002_1\\Allen, Phillip K.\\'Sent Mail</td>\n",
       "      <td>John J Lavorato &lt;John J Lavorato/ENRON@enronXgate@ENRON&gt;</td>\n",
       "      <td>NaN</td>\n",
       "      <td>Allen-P</td>\n",
       "      <td>Traveling to have a business meeting takes the fun out of the trip.  Especially if you have to ...</td>\n",
       "      <td>2001</td>\n",
       "    </tr>\n",
       "    <tr>\n",
       "      <th>2</th>\n",
       "      <td>Phillip K Allen</td>\n",
       "      <td>allen-p</td>\n",
       "      <td>2000-10-18 10:00:00+00:00</td>\n",
       "      <td>Re: test</td>\n",
       "      <td>\\Phillip_Allen_Dec2000\\Notes Folders\\'sent mail</td>\n",
       "      <td>Leah Van Arsdall</td>\n",
       "      <td>NaN</td>\n",
       "      <td>Allen-P</td>\n",
       "      <td>test successful.  way to go!!!</td>\n",
       "      <td>2000</td>\n",
       "    </tr>\n",
       "    <tr>\n",
       "      <th>3</th>\n",
       "      <td>Phillip K Allen</td>\n",
       "      <td>allen-p</td>\n",
       "      <td>2000-10-23 13:13:00+00:00</td>\n",
       "      <td>NaN</td>\n",
       "      <td>\\Phillip_Allen_Dec2000\\Notes Folders\\'sent mail</td>\n",
       "      <td>Randall L Gay</td>\n",
       "      <td>NaN</td>\n",
       "      <td>Allen-P</td>\n",
       "      <td>Randy,  Can you send me a schedule of the salary and level of everyone in the scheduling group....</td>\n",
       "      <td>2000</td>\n",
       "    </tr>\n",
       "    <tr>\n",
       "      <th>4</th>\n",
       "      <td>Phillip K Allen</td>\n",
       "      <td>allen-p</td>\n",
       "      <td>2000-08-31 12:07:00+00:00</td>\n",
       "      <td>Re: Hello</td>\n",
       "      <td>\\Phillip_Allen_Dec2000\\Notes Folders\\'sent mail</td>\n",
       "      <td>Greg Piper</td>\n",
       "      <td>NaN</td>\n",
       "      <td>Allen-P</td>\n",
       "      <td>Let's shoot for Tuesday at 11:45.</td>\n",
       "      <td>2000</td>\n",
       "    </tr>\n",
       "  </tbody>\n",
       "</table>\n",
       "</div>"
      ],
      "text/plain": [
       "            X-From employee                      Date    Subject  \\\n",
       "0  Phillip K Allen  allen-p 2001-05-14 23:39:00+00:00        NaN   \n",
       "1  Phillip K Allen  allen-p 2001-05-04 20:51:00+00:00        Re:   \n",
       "2  Phillip K Allen  allen-p 2000-10-18 10:00:00+00:00   Re: test   \n",
       "3  Phillip K Allen  allen-p 2000-10-23 13:13:00+00:00        NaN   \n",
       "4  Phillip K Allen  allen-p 2000-08-31 12:07:00+00:00  Re: Hello   \n",
       "\n",
       "                                                X-Folder  \\\n",
       "0  \\Phillip_Allen_Jan2002_1\\Allen, Phillip K.\\'Sent Mail   \n",
       "1  \\Phillip_Allen_Jan2002_1\\Allen, Phillip K.\\'Sent Mail   \n",
       "2        \\Phillip_Allen_Dec2000\\Notes Folders\\'sent mail   \n",
       "3        \\Phillip_Allen_Dec2000\\Notes Folders\\'sent mail   \n",
       "4        \\Phillip_Allen_Dec2000\\Notes Folders\\'sent mail   \n",
       "\n",
       "                                                       X-To X-cc X-Origin  \\\n",
       "0                  Tim Belden <Tim Belden/Enron@EnronXGate>  NaN  Allen-P   \n",
       "1  John J Lavorato <John J Lavorato/ENRON@enronXgate@ENRON>  NaN  Allen-P   \n",
       "2                                          Leah Van Arsdall  NaN  Allen-P   \n",
       "3                                             Randall L Gay  NaN  Allen-P   \n",
       "4                                                Greg Piper  NaN  Allen-P   \n",
       "\n",
       "                                                                                            email-body  \\\n",
       "0                                                                               Here is our forecast     \n",
       "1   Traveling to have a business meeting takes the fun out of the trip.  Especially if you have to ...   \n",
       "2                                                                       test successful.  way to go!!!   \n",
       "3   Randy,  Can you send me a schedule of the salary and level of everyone in the scheduling group....   \n",
       "4                                                                    Let's shoot for Tuesday at 11:45.   \n",
       "\n",
       "   year  \n",
       "0  2001  \n",
       "1  2001  \n",
       "2  2000  \n",
       "3  2000  \n",
       "4  2000  "
      ]
     },
     "execution_count": 39,
     "metadata": {},
     "output_type": "execute_result"
    }
   ],
   "source": [
    "data.head()"
   ]
  },
  {
   "cell_type": "code",
   "execution_count": 41,
   "metadata": {},
   "outputs": [],
   "source": [
    "#df_email.groupby('employee')[['email-body']].nunique()\n",
    "\n",
    "data = df_email.drop_duplicates(['email-body'])"
   ]
  },
  {
   "cell_type": "code",
   "execution_count": 43,
   "metadata": {},
   "outputs": [
    {
     "data": {
      "text/plain": [
       "(313217, 10)"
      ]
     },
     "execution_count": 43,
     "metadata": {},
     "output_type": "execute_result"
    }
   ],
   "source": [
    "data.shape"
   ]
  },
  {
   "cell_type": "code",
   "execution_count": 47,
   "metadata": {},
   "outputs": [
    {
     "data": {
      "text/plain": [
       "Jeff Dasovich                             6293\n",
       "Schedule Crawler<pete.davis@enron.com>    5334\n",
       "Kay Mann                                  5056\n",
       "Tana Jones                                4639\n",
       "Vince J Kaminski                          4519\n",
       "Name: X-From, dtype: int64"
      ]
     },
     "execution_count": 47,
     "metadata": {},
     "output_type": "execute_result"
    }
   ],
   "source": [
    "data['X-From'].value_counts().head(5)"
   ]
  },
  {
   "cell_type": "code",
   "execution_count": 48,
   "metadata": {},
   "outputs": [
    {
     "data": {
      "text/plain": [
       "pete.davis@enron.com                                     5334\n",
       "Davis, Pete </O=ENRON/OU=NA/CN=RECIPIENTS/CN=PDAVIS1>    3806\n",
       "Tana Jones                                               2026\n",
       "Name: X-To, dtype: int64"
      ]
     },
     "execution_count": 48,
     "metadata": {},
     "output_type": "execute_result"
    }
   ],
   "source": [
    "data['X-To'].value_counts().head(3)"
   ]
  },
  {
   "cell_type": "code",
   "execution_count": 10,
   "metadata": {},
   "outputs": [],
   "source": [
    "df_employee = df_email.groupby(['employee']).describe()"
   ]
  },
  {
   "cell_type": "code",
   "execution_count": 11,
   "metadata": {},
   "outputs": [
    {
     "data": {
      "text/plain": [
       "Message-Body    53\n",
       "X-From          53\n",
       "employee        53\n",
       "Date            53\n",
       "Subject         53\n",
       "X-Folder        53\n",
       "X-To            53\n",
       "X-cc            39\n",
       "X-Origin        53\n",
       "email-body      53\n",
       "dtype: int64"
      ]
     },
     "execution_count": 11,
     "metadata": {},
     "output_type": "execute_result"
    }
   ],
   "source": [
    "PKA = df_email.groupby(['X-From', 'X-To'])\n",
    "\n",
    "PKA.get_group(('Kay Mann', 'Kay Mann')).count()\n"
   ]
  },
  {
   "cell_type": "code",
   "execution_count": 21,
   "metadata": {},
   "outputs": [
    {
     "data": {
      "text/html": [
       "<div>\n",
       "<style scoped>\n",
       "    .dataframe tbody tr th:only-of-type {\n",
       "        vertical-align: middle;\n",
       "    }\n",
       "\n",
       "    .dataframe tbody tr th {\n",
       "        vertical-align: top;\n",
       "    }\n",
       "\n",
       "    .dataframe thead th {\n",
       "        text-align: right;\n",
       "    }\n",
       "</style>\n",
       "<table border=\"1\" class=\"dataframe\">\n",
       "  <thead>\n",
       "    <tr style=\"text-align: right;\">\n",
       "      <th></th>\n",
       "      <th>Message-Body</th>\n",
       "      <th>X-From</th>\n",
       "      <th>employee</th>\n",
       "      <th>Date</th>\n",
       "      <th>Subject</th>\n",
       "      <th>X-Folder</th>\n",
       "      <th>X-To</th>\n",
       "      <th>X-cc</th>\n",
       "      <th>X-Origin</th>\n",
       "      <th>email-body</th>\n",
       "    </tr>\n",
       "  </thead>\n",
       "  <tbody>\n",
       "    <tr>\n",
       "      <th>0</th>\n",
       "      <td>here is our forecast\\n\\n</td>\n",
       "      <td>Phillip K Allen</td>\n",
       "      <td>allen-p</td>\n",
       "      <td>2001-05-14 23:39:00+00:00</td>\n",
       "      <td>NaN</td>\n",
       "      <td>\\Phillip_Allen_Jan2002_1\\Allen, Phillip K.\\'Sent Mail</td>\n",
       "      <td>Tim Belden &lt;Tim Belden/Enron@EnronXGate&gt;</td>\n",
       "      <td>NaN</td>\n",
       "      <td>Allen-P</td>\n",
       "      <td>Here is our forecast</td>\n",
       "    </tr>\n",
       "    <tr>\n",
       "      <th>1</th>\n",
       "      <td>traveling to have a business meeting takes the fun out of the trip.  especially if you have to p...</td>\n",
       "      <td>Phillip K Allen</td>\n",
       "      <td>allen-p</td>\n",
       "      <td>2001-05-04 20:51:00+00:00</td>\n",
       "      <td>Re:</td>\n",
       "      <td>\\Phillip_Allen_Jan2002_1\\Allen, Phillip K.\\'Sent Mail</td>\n",
       "      <td>John J Lavorato &lt;John J Lavorato/ENRON@enronXgate@ENRON&gt;</td>\n",
       "      <td>NaN</td>\n",
       "      <td>Allen-P</td>\n",
       "      <td>Traveling to have a business meeting takes the fun out of the trip.  Especially if you have to ...</td>\n",
       "    </tr>\n",
       "    <tr>\n",
       "      <th>2</th>\n",
       "      <td>test successful.  way to go!!!</td>\n",
       "      <td>Phillip K Allen</td>\n",
       "      <td>allen-p</td>\n",
       "      <td>2000-10-18 10:00:00+00:00</td>\n",
       "      <td>Re: test</td>\n",
       "      <td>\\Phillip_Allen_Dec2000\\Notes Folders\\'sent mail</td>\n",
       "      <td>Leah Van Arsdall</td>\n",
       "      <td>NaN</td>\n",
       "      <td>Allen-P</td>\n",
       "      <td>test successful.  way to go!!!</td>\n",
       "    </tr>\n",
       "  </tbody>\n",
       "</table>\n",
       "</div>"
      ],
      "text/plain": [
       "                                                                                          Message-Body  \\\n",
       "0                                                                            here is our forecast\\n\\n    \n",
       "1  traveling to have a business meeting takes the fun out of the trip.  especially if you have to p...   \n",
       "2                                                                       test successful.  way to go!!!   \n",
       "\n",
       "            X-From employee                      Date   Subject  \\\n",
       "0  Phillip K Allen  allen-p 2001-05-14 23:39:00+00:00       NaN   \n",
       "1  Phillip K Allen  allen-p 2001-05-04 20:51:00+00:00       Re:   \n",
       "2  Phillip K Allen  allen-p 2000-10-18 10:00:00+00:00  Re: test   \n",
       "\n",
       "                                                X-Folder  \\\n",
       "0  \\Phillip_Allen_Jan2002_1\\Allen, Phillip K.\\'Sent Mail   \n",
       "1  \\Phillip_Allen_Jan2002_1\\Allen, Phillip K.\\'Sent Mail   \n",
       "2        \\Phillip_Allen_Dec2000\\Notes Folders\\'sent mail   \n",
       "\n",
       "                                                       X-To X-cc X-Origin  \\\n",
       "0                  Tim Belden <Tim Belden/Enron@EnronXGate>  NaN  Allen-P   \n",
       "1  John J Lavorato <John J Lavorato/ENRON@enronXgate@ENRON>  NaN  Allen-P   \n",
       "2                                          Leah Van Arsdall  NaN  Allen-P   \n",
       "\n",
       "                                                                                            email-body  \n",
       "0                                                                               Here is our forecast    \n",
       "1   Traveling to have a business meeting takes the fun out of the trip.  Especially if you have to ...  \n",
       "2                                                                       test successful.  way to go!!!  "
      ]
     },
     "execution_count": 21,
     "metadata": {},
     "output_type": "execute_result"
    }
   ],
   "source": [
    "df_email.head(3)"
   ]
  },
  {
   "cell_type": "code",
   "execution_count": 22,
   "metadata": {},
   "outputs": [],
   "source": [
    "df_email = df_email.drop(columns=['Message-Body'])"
   ]
  },
  {
   "cell_type": "code",
   "execution_count": 23,
   "metadata": {},
   "outputs": [
    {
     "data": {
      "text/html": [
       "<div>\n",
       "<style scoped>\n",
       "    .dataframe tbody tr th:only-of-type {\n",
       "        vertical-align: middle;\n",
       "    }\n",
       "\n",
       "    .dataframe tbody tr th {\n",
       "        vertical-align: top;\n",
       "    }\n",
       "\n",
       "    .dataframe thead th {\n",
       "        text-align: right;\n",
       "    }\n",
       "</style>\n",
       "<table border=\"1\" class=\"dataframe\">\n",
       "  <thead>\n",
       "    <tr style=\"text-align: right;\">\n",
       "      <th></th>\n",
       "      <th>X-From</th>\n",
       "      <th>employee</th>\n",
       "      <th>Date</th>\n",
       "      <th>Subject</th>\n",
       "      <th>X-Folder</th>\n",
       "      <th>X-To</th>\n",
       "      <th>X-cc</th>\n",
       "      <th>X-Origin</th>\n",
       "      <th>email-body</th>\n",
       "    </tr>\n",
       "  </thead>\n",
       "  <tbody>\n",
       "    <tr>\n",
       "      <th>0</th>\n",
       "      <td>Phillip K Allen</td>\n",
       "      <td>allen-p</td>\n",
       "      <td>2001-05-14 23:39:00+00:00</td>\n",
       "      <td>NaN</td>\n",
       "      <td>\\Phillip_Allen_Jan2002_1\\Allen, Phillip K.\\'Sent Mail</td>\n",
       "      <td>Tim Belden &lt;Tim Belden/Enron@EnronXGate&gt;</td>\n",
       "      <td>NaN</td>\n",
       "      <td>Allen-P</td>\n",
       "      <td>Here is our forecast</td>\n",
       "    </tr>\n",
       "    <tr>\n",
       "      <th>1</th>\n",
       "      <td>Phillip K Allen</td>\n",
       "      <td>allen-p</td>\n",
       "      <td>2001-05-04 20:51:00+00:00</td>\n",
       "      <td>Re:</td>\n",
       "      <td>\\Phillip_Allen_Jan2002_1\\Allen, Phillip K.\\'Sent Mail</td>\n",
       "      <td>John J Lavorato &lt;John J Lavorato/ENRON@enronXgate@ENRON&gt;</td>\n",
       "      <td>NaN</td>\n",
       "      <td>Allen-P</td>\n",
       "      <td>Traveling to have a business meeting takes the fun out of the trip.  Especially if you have to ...</td>\n",
       "    </tr>\n",
       "    <tr>\n",
       "      <th>2</th>\n",
       "      <td>Phillip K Allen</td>\n",
       "      <td>allen-p</td>\n",
       "      <td>2000-10-18 10:00:00+00:00</td>\n",
       "      <td>Re: test</td>\n",
       "      <td>\\Phillip_Allen_Dec2000\\Notes Folders\\'sent mail</td>\n",
       "      <td>Leah Van Arsdall</td>\n",
       "      <td>NaN</td>\n",
       "      <td>Allen-P</td>\n",
       "      <td>test successful.  way to go!!!</td>\n",
       "    </tr>\n",
       "  </tbody>\n",
       "</table>\n",
       "</div>"
      ],
      "text/plain": [
       "            X-From employee                      Date   Subject  \\\n",
       "0  Phillip K Allen  allen-p 2001-05-14 23:39:00+00:00       NaN   \n",
       "1  Phillip K Allen  allen-p 2001-05-04 20:51:00+00:00       Re:   \n",
       "2  Phillip K Allen  allen-p 2000-10-18 10:00:00+00:00  Re: test   \n",
       "\n",
       "                                                X-Folder  \\\n",
       "0  \\Phillip_Allen_Jan2002_1\\Allen, Phillip K.\\'Sent Mail   \n",
       "1  \\Phillip_Allen_Jan2002_1\\Allen, Phillip K.\\'Sent Mail   \n",
       "2        \\Phillip_Allen_Dec2000\\Notes Folders\\'sent mail   \n",
       "\n",
       "                                                       X-To X-cc X-Origin  \\\n",
       "0                  Tim Belden <Tim Belden/Enron@EnronXGate>  NaN  Allen-P   \n",
       "1  John J Lavorato <John J Lavorato/ENRON@enronXgate@ENRON>  NaN  Allen-P   \n",
       "2                                          Leah Van Arsdall  NaN  Allen-P   \n",
       "\n",
       "                                                                                            email-body  \n",
       "0                                                                               Here is our forecast    \n",
       "1   Traveling to have a business meeting takes the fun out of the trip.  Especially if you have to ...  \n",
       "2                                                                       test successful.  way to go!!!  "
      ]
     },
     "execution_count": 23,
     "metadata": {},
     "output_type": "execute_result"
    }
   ],
   "source": [
    "df_email.head(3)"
   ]
  },
  {
   "cell_type": "code",
   "execution_count": 17,
   "metadata": {},
   "outputs": [],
   "source": [
    "#df_email.to_csv('data.csv',index=False)"
   ]
  },
  {
   "cell_type": "code",
   "execution_count": 15,
   "metadata": {},
   "outputs": [
    {
     "data": {
      "text/plain": [
       "\\Kay_Mann_June2001_1\\Notes Folders\\All documents                   6639\n",
       "\\Tanya_Jones_Dec2000\\Notes Folders\\All documents                   5934\n",
       "\\Jeff_Dasovich_June2001\\Notes Folders\\All documents                5637\n",
       "\\Sara_Shackleton_Dec2000_June2001_1\\Notes Folders\\All documents    5211\n",
       "\\Vincent_Kaminski_Jun2001_1\\Notes Folders\\All documents            5066\n",
       "                                                                   ... \n",
       "\\Charles_Wheldon_Nov2001\\Notes Folders\\Lng                            1\n",
       "\\KRUSCIT (Non-Privileged)\\EOL                                         1\n",
       "\\DMCCARTY (Non-Privileged)\\McCarty, Danny\\Inbox\\TW                    1\n",
       "\\KWATSON (Non-Privileged)\\Watson, Kimberly\\Sun Devil Expansion        1\n",
       "\\ExMerge - Griffith, John\\New Items                                   1\n",
       "Name: X-Folder, Length: 5335, dtype: int64"
      ]
     },
     "execution_count": 15,
     "metadata": {},
     "output_type": "execute_result"
    }
   ],
   "source": [
    "#print(df_email.iloc[:][\"X-Folder\"].nunique())\n",
    "\n",
    "df_email['X-Folder'].value_counts()"
   ]
  },
  {
   "cell_type": "markdown",
   "metadata": {},
   "source": [
    "\n",
    "The `X-Folder` column contains several folders and subfolders that are not needed.  These include non-topical folders, which refer to folders that hold e-mails regardless of content.  These are removed because it is pretty hard to accurately train a classifier using them. Here's a few non-topical folders:\n",
    "* all_documents\n",
    "* discussion_threads\n",
    "* sent\n",
    "* deleted_items\n",
    "* inbox\n",
    "* sent_items\n",
    "* notes_inbox\n",
    "* _sent_mail\n",
    "* calendar"
   ]
  },
  {
   "cell_type": "code",
   "execution_count": 16,
   "metadata": {
    "scrolled": true
   },
   "outputs": [
    {
     "name": "stdout",
     "output_type": "stream",
     "text": [
      "491806     \\Kim_Ward_Nov2001\\Notes Folders\\All documents\n",
      "110487     \\Farmer, Daren J.\\Farmer, Daren J.\\Sent Items\n",
      "295636          \\Phillip_Love_Dec2000\\Notes Folders\\Sent\n",
      "193684    \\Tanya_Jones_Dec2000\\Notes Folders\\Notes inbox\n",
      "295073                \\PLOVE (Non-Privileged)\\Sent Items\n",
      "98936        \\FERMIS (Non-Privileged)\\Ermis, Frank\\Inbox\n",
      "486414      \\Jane_Tholt_Jun2001\\Notes Folders\\'sent mail\n",
      "Name: X-Folder, dtype: object\n"
     ]
    }
   ],
   "source": [
    "print(df_email[\"X-Folder\"].sample(7))"
   ]
  },
  {
   "cell_type": "code",
   "execution_count": 17,
   "metadata": {},
   "outputs": [
    {
     "ename": "AttributeError",
     "evalue": "module 'seaborn' has no attribute 'plt'",
     "output_type": "error",
     "traceback": [
      "\u001b[0;31m---------------------------------------------------------------------------\u001b[0m",
      "\u001b[0;31mAttributeError\u001b[0m                            Traceback (most recent call last)",
      "\u001b[0;32m<ipython-input-17-983ce02cb870>\u001b[0m in \u001b[0;36m<module>\u001b[0;34m\u001b[0m\n\u001b[1;32m     19\u001b[0m     \u001b[0msns\u001b[0m\u001b[0;34m.\u001b[0m\u001b[0mplt\u001b[0m\u001b[0;34m.\u001b[0m\u001b[0mshow\u001b[0m\u001b[0;34m(\u001b[0m\u001b[0;34m)\u001b[0m\u001b[0;34m\u001b[0m\u001b[0;34m\u001b[0m\u001b[0m\n\u001b[1;32m     20\u001b[0m \u001b[0;34m\u001b[0m\u001b[0m\n\u001b[0;32m---> 21\u001b[0;31m \u001b[0mbarplot\u001b[0m\u001b[0;34m(\u001b[0m\u001b[0mdf\u001b[0m \u001b[0;34m=\u001b[0m \u001b[0mcount\u001b[0m\u001b[0;34m[\u001b[0m\u001b[0;34m:\u001b[0m\u001b[0;36m40\u001b[0m\u001b[0;34m]\u001b[0m\u001b[0;34m,\u001b[0m \u001b[0mX\u001b[0m \u001b[0;34m=\u001b[0m \u001b[0;34m\"X-Folder\"\u001b[0m\u001b[0;34m,\u001b[0m \u001b[0mY\u001b[0m \u001b[0;34m=\u001b[0m \u001b[0;34m\"Folder Names\"\u001b[0m\u001b[0;34m,\u001b[0m \u001b[0mfigsize\u001b[0m \u001b[0;34m=\u001b[0m \u001b[0;34m(\u001b[0m\u001b[0;36m7\u001b[0m\u001b[0;34m,\u001b[0m \u001b[0;36m8\u001b[0m\u001b[0;34m)\u001b[0m\u001b[0;34m,\u001b[0m \u001b[0mcolor\u001b[0m \u001b[0;34m=\u001b[0m \u001b[0;34m'b'\u001b[0m\u001b[0;34m,\u001b[0m \u001b[0morient\u001b[0m \u001b[0;34m=\u001b[0m \u001b[0;34m'h'\u001b[0m\u001b[0;34m,\u001b[0m \u001b[0mylabel\u001b[0m \u001b[0;34m=\u001b[0m \u001b[0;34m\"Folders\"\u001b[0m\u001b[0;34m,\u001b[0m \u001b[0mxlabel\u001b[0m \u001b[0;34m=\u001b[0m \u001b[0;34m\"Count\"\u001b[0m\u001b[0;34m,\u001b[0m \u001b[0mfont_scale\u001b[0m \u001b[0;34m=\u001b[0m \u001b[0;36m1.2\u001b[0m\u001b[0;34m,\u001b[0m \u001b[0mrotation\u001b[0m \u001b[0;34m=\u001b[0m \u001b[0;36m90\u001b[0m\u001b[0;34m)\u001b[0m\u001b[0;34m\u001b[0m\u001b[0;34m\u001b[0m\u001b[0m\n\u001b[0m",
      "\u001b[0;32m<ipython-input-17-983ce02cb870>\u001b[0m in \u001b[0;36mbarplot\u001b[0;34m(df, X, Y, figsize, color, orient, ylabel, xlabel, font_scale, rotation)\u001b[0m\n\u001b[1;32m     17\u001b[0m     \u001b[0msns\u001b[0m\u001b[0;34m.\u001b[0m\u001b[0mset\u001b[0m\u001b[0;34m(\u001b[0m\u001b[0mfont_scale\u001b[0m \u001b[0;34m=\u001b[0m \u001b[0mfont_scale\u001b[0m\u001b[0;34m)\u001b[0m\u001b[0;34m\u001b[0m\u001b[0;34m\u001b[0m\u001b[0m\n\u001b[1;32m     18\u001b[0m     \u001b[0mplt\u001b[0m\u001b[0;34m.\u001b[0m\u001b[0mxticks\u001b[0m\u001b[0;34m(\u001b[0m\u001b[0mrotation\u001b[0m \u001b[0;34m=\u001b[0m \u001b[0mrotation\u001b[0m\u001b[0;34m)\u001b[0m\u001b[0;34m\u001b[0m\u001b[0;34m\u001b[0m\u001b[0m\n\u001b[0;32m---> 19\u001b[0;31m     \u001b[0msns\u001b[0m\u001b[0;34m.\u001b[0m\u001b[0mplt\u001b[0m\u001b[0;34m.\u001b[0m\u001b[0mshow\u001b[0m\u001b[0;34m(\u001b[0m\u001b[0;34m)\u001b[0m\u001b[0;34m\u001b[0m\u001b[0;34m\u001b[0m\u001b[0m\n\u001b[0m\u001b[1;32m     20\u001b[0m \u001b[0;34m\u001b[0m\u001b[0m\n\u001b[1;32m     21\u001b[0m \u001b[0mbarplot\u001b[0m\u001b[0;34m(\u001b[0m\u001b[0mdf\u001b[0m \u001b[0;34m=\u001b[0m \u001b[0mcount\u001b[0m\u001b[0;34m[\u001b[0m\u001b[0;34m:\u001b[0m\u001b[0;36m40\u001b[0m\u001b[0;34m]\u001b[0m\u001b[0;34m,\u001b[0m \u001b[0mX\u001b[0m \u001b[0;34m=\u001b[0m \u001b[0;34m\"X-Folder\"\u001b[0m\u001b[0;34m,\u001b[0m \u001b[0mY\u001b[0m \u001b[0;34m=\u001b[0m \u001b[0;34m\"Folder Names\"\u001b[0m\u001b[0;34m,\u001b[0m \u001b[0mfigsize\u001b[0m \u001b[0;34m=\u001b[0m \u001b[0;34m(\u001b[0m\u001b[0;36m7\u001b[0m\u001b[0;34m,\u001b[0m \u001b[0;36m8\u001b[0m\u001b[0;34m)\u001b[0m\u001b[0;34m,\u001b[0m \u001b[0mcolor\u001b[0m \u001b[0;34m=\u001b[0m \u001b[0;34m'b'\u001b[0m\u001b[0;34m,\u001b[0m \u001b[0morient\u001b[0m \u001b[0;34m=\u001b[0m \u001b[0;34m'h'\u001b[0m\u001b[0;34m,\u001b[0m \u001b[0mylabel\u001b[0m \u001b[0;34m=\u001b[0m \u001b[0;34m\"Folders\"\u001b[0m\u001b[0;34m,\u001b[0m \u001b[0mxlabel\u001b[0m \u001b[0;34m=\u001b[0m \u001b[0;34m\"Count\"\u001b[0m\u001b[0;34m,\u001b[0m \u001b[0mfont_scale\u001b[0m \u001b[0;34m=\u001b[0m \u001b[0;36m1.2\u001b[0m\u001b[0;34m,\u001b[0m \u001b[0mrotation\u001b[0m \u001b[0;34m=\u001b[0m \u001b[0;36m90\u001b[0m\u001b[0;34m)\u001b[0m\u001b[0;34m\u001b[0m\u001b[0;34m\u001b[0m\u001b[0m\n",
      "\u001b[0;31mAttributeError\u001b[0m: module 'seaborn' has no attribute 'plt'"
     ]
    },
    {
     "data": {
      "image/png": "[encoded data removed]",
      "text/plain": [
       "<Figure size 504x576 with 1 Axes>"
      ]
     },
     "metadata": {
      "needs_background": "light"
     },
     "output_type": "display_data"
    }
   ],
   "source": [
    "import seaborn as sns\n",
    "import matplotlib.pyplot as plt\n",
    "%matplotlib inline\n",
    "\n",
    "# dataframe containing counts of every word in the emails dataframe\n",
    "email_count = df_email[\"X-Folder\"].value_counts()\n",
    "indices = email_count.index\n",
    "count = pd.DataFrame(email_count, columns = [\"X-Folder\"])\n",
    "count[\"Folder Names\"] = indices\n",
    "#print count.head()\n",
    "\n",
    "def barplot(df, X, Y, figsize, color, orient, ylabel, xlabel, font_scale, rotation):\n",
    "    f, ax = plt.subplots(figsize=figsize)\n",
    "    sns.set_color_codes(\"muted\")\n",
    "    sns.barplot(x = X, y = Y, data = df, color = color, orient = orient)\n",
    "    ax.set(ylabel = ylabel, xlabel = xlabel)\n",
    "    sns.set(font_scale = font_scale)\n",
    "    plt.xticks(rotation = rotation) \n",
    "    sns.plt.show()\n",
    "    \n",
    "barplot(df = count[:40], X = \"X-Folder\", Y = \"Folder Names\", figsize = (7, 8), color = 'b', orient = 'h', ylabel = \"Folders\", xlabel = \"Count\", font_scale = 1.2, rotation = 90)"
   ]
  },
  {
   "cell_type": "code",
   "execution_count": 31,
   "metadata": {},
   "outputs": [
    {
     "ename": "SyntaxError",
     "evalue": "invalid syntax (<ipython-input-31-0c84c7853c81>, line 4)",
     "output_type": "error",
     "traceback": [
      "\u001b[0;36m  File \u001b[0;32m\"<ipython-input-31-0c84c7853c81>\"\u001b[0;36m, line \u001b[0;32m4\u001b[0m\n\u001b[0;31m    if item is None or item i == '':\u001b[0m\n\u001b[0m                            ^\u001b[0m\n\u001b[0;31mSyntaxError\u001b[0m\u001b[0;31m:\u001b[0m invalid syntax\n"
     ]
    }
   ],
   "source": [
    "def preprocess_folder(data):\n",
    "    folders = []\n",
    "    for item in data:\n",
    "        if item is None or item is '':\n",
    "            folders.append(np.nan)\n",
    "        else:\n",
    "            item = item.split(\"\\\\\")[-1]\n",
    "            item = item.lower()\n",
    "            folders.append(item)\n",
    "    print(\"Folder cleaned!\")\n",
    "    return folders      \n",
    "df_email[\"Selected\"] = preprocess_folder(df_email[\"X-Folder\"])"
   ]
  },
  {
   "cell_type": "code",
   "execution_count": 49,
   "metadata": {},
   "outputs": [
    {
     "name": "stderr",
     "output_type": "stream",
     "text": [
      "[nltk_data] Downloading package vader_lexicon to\n",
      "[nltk_data]     /home/becode/nltk_data...\n",
      "[nltk_data]   Package vader_lexicon is already up-to-date!\n",
      "[nltk_data] Downloading package punkt to /home/becode/nltk_data...\n",
      "[nltk_data]   Package punkt is already up-to-date!\n"
     ]
    },
    {
     "data": {
      "text/plain": [
       "True"
      ]
     },
     "execution_count": 49,
     "metadata": {},
     "output_type": "execute_result"
    }
   ],
   "source": [
    "import nltk\n",
    "nltk.download('vader_lexicon')\n",
    "nltk.download('punkt')"
   ]
  },
  {
   "cell_type": "code",
   "execution_count": 50,
   "metadata": {},
   "outputs": [],
   "source": [
    "# first, we import the relevant modules from the NLTK library\n",
    "from nltk.sentiment.vader import SentimentIntensityAnalyzer"
   ]
  },
  {
   "cell_type": "code",
   "execution_count": 34,
   "metadata": {},
   "outputs": [],
   "source": [
    "# next, we initialize VADER so we can use it within our Python script\n",
    "sid = SentimentIntensityAnalyzer()"
   ]
  },
  {
   "cell_type": "code",
   "execution_count": 16,
   "metadata": {},
   "outputs": [
    {
     "data": {
      "text/plain": [
       "datetime64[ns, UTC]"
      ]
     },
     "execution_count": 16,
     "metadata": {},
     "output_type": "execute_result"
    }
   ],
   "source": [
    "df_email['Date'] = pd.to_datetime(df_email[\"Date\"])\n",
    "df_email['Date'].dtypes"
   ]
  },
  {
   "cell_type": "code",
   "execution_count": 17,
   "metadata": {},
   "outputs": [
    {
     "data": {
      "text/html": [
       "<div>\n",
       "<style scoped>\n",
       "    .dataframe tbody tr th:only-of-type {\n",
       "        vertical-align: middle;\n",
       "    }\n",
       "\n",
       "    .dataframe tbody tr th {\n",
       "        vertical-align: top;\n",
       "    }\n",
       "\n",
       "    .dataframe thead th {\n",
       "        text-align: right;\n",
       "    }\n",
       "</style>\n",
       "<table border=\"1\" class=\"dataframe\">\n",
       "  <thead>\n",
       "    <tr style=\"text-align: right;\">\n",
       "      <th></th>\n",
       "      <th>X-From</th>\n",
       "      <th>employee</th>\n",
       "      <th>Date</th>\n",
       "      <th>Subject</th>\n",
       "      <th>X-Folder</th>\n",
       "      <th>X-To</th>\n",
       "      <th>X-cc</th>\n",
       "      <th>X-Origin</th>\n",
       "      <th>email-body</th>\n",
       "    </tr>\n",
       "  </thead>\n",
       "  <tbody>\n",
       "    <tr>\n",
       "      <th>0</th>\n",
       "      <td>Phillip K Allen</td>\n",
       "      <td>allen-p</td>\n",
       "      <td>2001-05-14 23:39:00+00:00</td>\n",
       "      <td>NaN</td>\n",
       "      <td>\\Phillip_Allen_Jan2002_1\\Allen, Phillip K.\\'Sent Mail</td>\n",
       "      <td>Tim Belden &lt;Tim Belden/Enron@EnronXGate&gt;</td>\n",
       "      <td>NaN</td>\n",
       "      <td>Allen-P</td>\n",
       "      <td>Here is our forecast</td>\n",
       "    </tr>\n",
       "    <tr>\n",
       "      <th>1</th>\n",
       "      <td>Phillip K Allen</td>\n",
       "      <td>allen-p</td>\n",
       "      <td>2001-05-04 20:51:00+00:00</td>\n",
       "      <td>Re:</td>\n",
       "      <td>\\Phillip_Allen_Jan2002_1\\Allen, Phillip K.\\'Sent Mail</td>\n",
       "      <td>John J Lavorato &lt;John J Lavorato/ENRON@enronXgate@ENRON&gt;</td>\n",
       "      <td>NaN</td>\n",
       "      <td>Allen-P</td>\n",
       "      <td>Traveling to have a business meeting takes the fun out of the trip.  Especially if you have to ...</td>\n",
       "    </tr>\n",
       "    <tr>\n",
       "      <th>2</th>\n",
       "      <td>Phillip K Allen</td>\n",
       "      <td>allen-p</td>\n",
       "      <td>2000-10-18 10:00:00+00:00</td>\n",
       "      <td>Re: test</td>\n",
       "      <td>\\Phillip_Allen_Dec2000\\Notes Folders\\'sent mail</td>\n",
       "      <td>Leah Van Arsdall</td>\n",
       "      <td>NaN</td>\n",
       "      <td>Allen-P</td>\n",
       "      <td>test successful.  way to go!!!</td>\n",
       "    </tr>\n",
       "  </tbody>\n",
       "</table>\n",
       "</div>"
      ],
      "text/plain": [
       "            X-From employee                      Date   Subject  \\\n",
       "0  Phillip K Allen  allen-p 2001-05-14 23:39:00+00:00       NaN   \n",
       "1  Phillip K Allen  allen-p 2001-05-04 20:51:00+00:00       Re:   \n",
       "2  Phillip K Allen  allen-p 2000-10-18 10:00:00+00:00  Re: test   \n",
       "\n",
       "                                                X-Folder  \\\n",
       "0  \\Phillip_Allen_Jan2002_1\\Allen, Phillip K.\\'Sent Mail   \n",
       "1  \\Phillip_Allen_Jan2002_1\\Allen, Phillip K.\\'Sent Mail   \n",
       "2        \\Phillip_Allen_Dec2000\\Notes Folders\\'sent mail   \n",
       "\n",
       "                                                       X-To X-cc X-Origin  \\\n",
       "0                  Tim Belden <Tim Belden/Enron@EnronXGate>  NaN  Allen-P   \n",
       "1  John J Lavorato <John J Lavorato/ENRON@enronXgate@ENRON>  NaN  Allen-P   \n",
       "2                                          Leah Van Arsdall  NaN  Allen-P   \n",
       "\n",
       "                                                                                            email-body  \n",
       "0                                                                               Here is our forecast    \n",
       "1   Traveling to have a business meeting takes the fun out of the trip.  Especially if you have to ...  \n",
       "2                                                                       test successful.  way to go!!!  "
      ]
     },
     "execution_count": 17,
     "metadata": {},
     "output_type": "execute_result"
    }
   ],
   "source": [
    "df_email.head(3)"
   ]
  },
  {
   "cell_type": "code",
   "execution_count": 1,
   "metadata": {},
   "outputs": [
    {
     "ename": "NameError",
     "evalue": "name 'df_email' is not defined",
     "output_type": "error",
     "traceback": [
      "\u001b[0;31m---------------------------------------------------------------------------\u001b[0m",
      "\u001b[0;31mNameError\u001b[0m                                 Traceback (most recent call last)",
      "\u001b[0;32m<ipython-input-1-8785dbff5abc>\u001b[0m in \u001b[0;36m<module>\u001b[0;34m\u001b[0m\n\u001b[0;32m----> 1\u001b[0;31m \u001b[0mdf_email\u001b[0m\u001b[0;34m.\u001b[0m\u001b[0mgroupby\u001b[0m\u001b[0;34m(\u001b[0m\u001b[0;34m[\u001b[0m\u001b[0;34m'X-From'\u001b[0m\u001b[0;34m]\u001b[0m\u001b[0;34m)\u001b[0m\u001b[0;34m\u001b[0m\u001b[0;34m\u001b[0m\u001b[0m\n\u001b[0m",
      "\u001b[0;31mNameError\u001b[0m: name 'df_email' is not defined"
     ]
    }
   ],
   "source": [
    "df_email.groupby(['X-From'])"
   ]
  },
  {
   "cell_type": "code",
   "execution_count": null,
   "metadata": {},
   "outputs": [],
   "source": []
  },
  {
   "cell_type": "code",
   "execution_count": null,
   "metadata": {},
   "outputs": [],
   "source": [
    "value_counts().plot(kind='bar')"
   ]
  },
  {
   "cell_type": "code",
   "execution_count": null,
   "metadata": {},
   "outputs": [],
   "source": []
  },
  {
   "cell_type": "markdown",
   "metadata": {},
   "source": [
    "### systematic analysis "
   ]
  },
  {
   "cell_type": "code",
   "execution_count": 51,
   "metadata": {},
   "outputs": [],
   "source": [
    "import pandas as pd\n",
    "import matplotlib.pyplot as plt\n",
    "%matplotlib inline  \n",
    "import nltk\n",
    "from nltk import word_tokenize, sent_tokenize\n",
    "from nltk.corpus import stopwords\n",
    "from nltk.stem import LancasterStemmer, WordNetLemmatizer, PorterStemmer\n",
    "from wordcloud import WordCloud, STOPWORDS\n",
    "from textblob import TextBlob"
   ]
  },
  {
   "cell_type": "code",
   "execution_count": 54,
   "metadata": {},
   "outputs": [
    {
     "name": "stderr",
     "output_type": "stream",
     "text": [
      "<ipython-input-54-55ee369b28d1>:2: SettingWithCopyWarning: \n",
      "A value is trying to be set on a copy of a slice from a DataFrame.\n",
      "Try using .loc[row_indexer,col_indexer] = value instead\n",
      "\n",
      "See the caveats in the documentation: https://pandas.pydata.org/pandas-docs/stable/user_guide/indexing.html#returning-a-view-versus-a-copy\n",
      "  data['reviews.text'] = data['email-body'].astype(str)\n"
     ]
    }
   ],
   "source": [
    "## Change the reviews type to string\n",
    "data['reviews.text'] = data['email-body'].astype(str)"
   ]
  },
  {
   "cell_type": "code",
   "execution_count": 55,
   "metadata": {},
   "outputs": [
    {
     "data": {
      "text/plain": [
       "0                                                                                 Here is our forecast  \n",
       "1     Traveling to have a business meeting takes the fun out of the trip.  Especially if you have to ...\n",
       "2                                                                         test successful.  way to go!!!\n",
       "Name: reviews.text, dtype: object"
      ]
     },
     "execution_count": 55,
     "metadata": {},
     "output_type": "execute_result"
    }
   ],
   "source": [
    "data['reviews.text'].head(3)"
   ]
  },
  {
   "cell_type": "code",
   "execution_count": 56,
   "metadata": {},
   "outputs": [
    {
     "name": "stderr",
     "output_type": "stream",
     "text": [
      "<ipython-input-56-2d9f48872d5f>:2: SettingWithCopyWarning: \n",
      "A value is trying to be set on a copy of a slice from a DataFrame.\n",
      "Try using .loc[row_indexer,col_indexer] = value instead\n",
      "\n",
      "See the caveats in the documentation: https://pandas.pydata.org/pandas-docs/stable/user_guide/indexing.html#returning-a-view-versus-a-copy\n",
      "  data['reviews.text'] = data['reviews.text'].apply(lambda x: \" \".join(x.lower() for x in x.split()))\n"
     ]
    }
   ],
   "source": [
    "## Lowercase all reviews\n",
    "data['reviews.text'] = data['reviews.text'].apply(lambda x: \" \".join(x.lower() for x in x.split()))"
   ]
  },
  {
   "cell_type": "code",
   "execution_count": 57,
   "metadata": {},
   "outputs": [
    {
     "data": {
      "text/plain": [
       "0                                                                                   here is our forecast\n",
       "1    traveling to have a business meeting takes the fun out of the trip. especially if you have to pr...\n",
       "2                                                                          test successful. way to go!!!\n",
       "Name: reviews.text, dtype: object"
      ]
     },
     "execution_count": 57,
     "metadata": {},
     "output_type": "execute_result"
    }
   ],
   "source": [
    "data['reviews.text'].head(3)"
   ]
  },
  {
   "cell_type": "code",
   "execution_count": 19,
   "metadata": {},
   "outputs": [],
   "source": [
    "# remove punctuation\n",
    "#df_email['reviews.text'] = df_email['reviews.text'].str.replace(pat = [''])"
   ]
  },
  {
   "cell_type": "code",
   "execution_count": 1,
   "metadata": {},
   "outputs": [],
   "source": [
    "#df_email['reviews.text'].str.replace('[^ws]','')\n"
   ]
  },
  {
   "cell_type": "code",
   "execution_count": 59,
   "metadata": {},
   "outputs": [
    {
     "name": "stderr",
     "output_type": "stream",
     "text": [
      "[nltk_data] Downloading package stopwords to /home/becode/nltk_data...\n",
      "[nltk_data]   Package stopwords is already up-to-date!\n",
      "<ipython-input-59-d359d5ab26a4>:6: SettingWithCopyWarning: \n",
      "A value is trying to be set on a copy of a slice from a DataFrame.\n",
      "Try using .loc[row_indexer,col_indexer] = value instead\n",
      "\n",
      "See the caveats in the documentation: https://pandas.pydata.org/pandas-docs/stable/user_guide/indexing.html#returning-a-view-versus-a-copy\n",
      "  data['reviews.text'] = data['reviews.text'].apply(lambda x: \" \".join(x for x in x.split() if x not in stop))\n"
     ]
    }
   ],
   "source": [
    "import nltk\n",
    "nltk.download('stopwords')\n",
    "\n",
    "stop = stopwords.words('english')\n",
    "\n",
    "data['reviews.text'] = data['reviews.text'].apply(lambda x: \" \".join(x for x in x.split() if x not in stop))"
   ]
  },
  {
   "cell_type": "code",
   "execution_count": 60,
   "metadata": {},
   "outputs": [
    {
     "name": "stderr",
     "output_type": "stream",
     "text": [
      "<ipython-input-60-bdb19cae2279>:3: SettingWithCopyWarning: \n",
      "A value is trying to be set on a copy of a slice from a DataFrame.\n",
      "Try using .loc[row_indexer,col_indexer] = value instead\n",
      "\n",
      "See the caveats in the documentation: https://pandas.pydata.org/pandas-docs/stable/user_guide/indexing.html#returning-a-view-versus-a-copy\n",
      "  data['reviews.text'] = data['reviews.text'].apply(lambda x: \" \".join([st.stem(word) for word in x.split()]))\n"
     ]
    }
   ],
   "source": [
    "st = PorterStemmer()\n",
    "\n",
    "data['reviews.text'] = data['reviews.text'].apply(lambda x: \" \".join([st.stem(word) for word in x.split()]))"
   ]
  },
  {
   "cell_type": "code",
   "execution_count": 61,
   "metadata": {},
   "outputs": [
    {
     "data": {
      "text/plain": [
       "0                                                                                               forecast\n",
       "1    travel busi meet take fun trip. especi prepar presentation. would suggest hold busi plan meet ta...\n",
       "2                                                                             test successful. way go!!!\n",
       "Name: reviews.text, dtype: object"
      ]
     },
     "execution_count": 61,
     "metadata": {},
     "output_type": "execute_result"
    }
   ],
   "source": [
    "data['reviews.text'].head(3)"
   ]
  },
  {
   "cell_type": "code",
   "execution_count": 26,
   "metadata": {},
   "outputs": [
    {
     "data": {
      "text/html": [
       "<div>\n",
       "<style scoped>\n",
       "    .dataframe tbody tr th:only-of-type {\n",
       "        vertical-align: middle;\n",
       "    }\n",
       "\n",
       "    .dataframe tbody tr th {\n",
       "        vertical-align: top;\n",
       "    }\n",
       "\n",
       "    .dataframe thead th {\n",
       "        text-align: right;\n",
       "    }\n",
       "</style>\n",
       "<table border=\"1\" class=\"dataframe\">\n",
       "  <thead>\n",
       "    <tr style=\"text-align: right;\">\n",
       "      <th></th>\n",
       "      <th>X-From</th>\n",
       "      <th>employee</th>\n",
       "      <th>Date</th>\n",
       "      <th>Subject</th>\n",
       "      <th>X-Folder</th>\n",
       "      <th>X-To</th>\n",
       "      <th>X-cc</th>\n",
       "      <th>X-Origin</th>\n",
       "      <th>email-body</th>\n",
       "      <th>reviews.text</th>\n",
       "    </tr>\n",
       "  </thead>\n",
       "  <tbody>\n",
       "    <tr>\n",
       "      <th>0</th>\n",
       "      <td>Phillip K Allen</td>\n",
       "      <td>allen-p</td>\n",
       "      <td>2001-05-14 23:39:00+00:00</td>\n",
       "      <td>NaN</td>\n",
       "      <td>\\Phillip_Allen_Jan2002_1\\Allen, Phillip K.\\'Sent Mail</td>\n",
       "      <td>Tim Belden &lt;Tim Belden/Enron@EnronXGate&gt;</td>\n",
       "      <td>NaN</td>\n",
       "      <td>Allen-P</td>\n",
       "      <td>Here is our forecast</td>\n",
       "      <td>forecast</td>\n",
       "    </tr>\n",
       "    <tr>\n",
       "      <th>1</th>\n",
       "      <td>Phillip K Allen</td>\n",
       "      <td>allen-p</td>\n",
       "      <td>2001-05-04 20:51:00+00:00</td>\n",
       "      <td>Re:</td>\n",
       "      <td>\\Phillip_Allen_Jan2002_1\\Allen, Phillip K.\\'Sent Mail</td>\n",
       "      <td>John J Lavorato &lt;John J Lavorato/ENRON@enronXgate@ENRON&gt;</td>\n",
       "      <td>NaN</td>\n",
       "      <td>Allen-P</td>\n",
       "      <td>Traveling to have a business meeting takes the fun out of the trip.  Especially if you have to ...</td>\n",
       "      <td>travel busi meet take fun trip. especi prepar presentation. would suggest hold busi plan meet ta...</td>\n",
       "    </tr>\n",
       "    <tr>\n",
       "      <th>2</th>\n",
       "      <td>Phillip K Allen</td>\n",
       "      <td>allen-p</td>\n",
       "      <td>2000-10-18 10:00:00+00:00</td>\n",
       "      <td>Re: test</td>\n",
       "      <td>\\Phillip_Allen_Dec2000\\Notes Folders\\'sent mail</td>\n",
       "      <td>Leah Van Arsdall</td>\n",
       "      <td>NaN</td>\n",
       "      <td>Allen-P</td>\n",
       "      <td>test successful.  way to go!!!</td>\n",
       "      <td>test successful. way go!!!</td>\n",
       "    </tr>\n",
       "  </tbody>\n",
       "</table>\n",
       "</div>"
      ],
      "text/plain": [
       "            X-From employee                      Date   Subject  \\\n",
       "0  Phillip K Allen  allen-p 2001-05-14 23:39:00+00:00       NaN   \n",
       "1  Phillip K Allen  allen-p 2001-05-04 20:51:00+00:00       Re:   \n",
       "2  Phillip K Allen  allen-p 2000-10-18 10:00:00+00:00  Re: test   \n",
       "\n",
       "                                                X-Folder  \\\n",
       "0  \\Phillip_Allen_Jan2002_1\\Allen, Phillip K.\\'Sent Mail   \n",
       "1  \\Phillip_Allen_Jan2002_1\\Allen, Phillip K.\\'Sent Mail   \n",
       "2        \\Phillip_Allen_Dec2000\\Notes Folders\\'sent mail   \n",
       "\n",
       "                                                       X-To X-cc X-Origin  \\\n",
       "0                  Tim Belden <Tim Belden/Enron@EnronXGate>  NaN  Allen-P   \n",
       "1  John J Lavorato <John J Lavorato/ENRON@enronXgate@ENRON>  NaN  Allen-P   \n",
       "2                                          Leah Van Arsdall  NaN  Allen-P   \n",
       "\n",
       "                                                                                            email-body  \\\n",
       "0                                                                               Here is our forecast     \n",
       "1   Traveling to have a business meeting takes the fun out of the trip.  Especially if you have to ...   \n",
       "2                                                                       test successful.  way to go!!!   \n",
       "\n",
       "                                                                                          reviews.text  \n",
       "0                                                                                             forecast  \n",
       "1  travel busi meet take fun trip. especi prepar presentation. would suggest hold busi plan meet ta...  \n",
       "2                                                                           test successful. way go!!!  "
      ]
     },
     "execution_count": 26,
     "metadata": {},
     "output_type": "execute_result"
    }
   ],
   "source": [
    "df_email.head(3)"
   ]
  },
  {
   "cell_type": "code",
   "execution_count": null,
   "metadata": {},
   "outputs": [],
   "source": [
    "## Define a function which can be applied to calculate the score for the whole dataset\n",
    "\n",
    "def senti(x):\n",
    "    return TextBlob(x).sentiment  \n",
    "\n",
    "data['senti_score'] = data['reviews.text'].apply(senti)\n",
    "\n",
    "data.senti_score.head()"
   ]
  },
  {
   "cell_type": "code",
   "execution_count": 26,
   "metadata": {},
   "outputs": [
    {
     "data": {
      "text/plain": [
       "(0.0, 0.0)    517401\n",
       "Name: senti_score, dtype: int64"
      ]
     },
     "execution_count": 26,
     "metadata": {},
     "output_type": "execute_result"
    }
   ],
   "source": [
    "data.senti_score.head()"
   ]
  },
  {
   "cell_type": "code",
   "execution_count": null,
   "metadata": {},
   "outputs": [],
   "source": []
  },
  {
   "cell_type": "code",
   "execution_count": null,
   "metadata": {},
   "outputs": [],
   "source": []
  },
  {
   "cell_type": "code",
   "execution_count": null,
   "metadata": {},
   "outputs": [],
   "source": []
  },
  {
   "cell_type": "code",
   "execution_count": null,
   "metadata": {},
   "outputs": [],
   "source": []
  },
  {
   "cell_type": "code",
   "execution_count": null,
   "metadata": {},
   "outputs": [],
   "source": []
  },
  {
   "cell_type": "code",
   "execution_count": null,
   "metadata": {},
   "outputs": [],
   "source": []
  },
  {
   "cell_type": "code",
   "execution_count": null,
   "metadata": {},
   "outputs": [],
   "source": []
  },
  {
   "cell_type": "code",
   "execution_count": null,
   "metadata": {},
   "outputs": [],
   "source": []
  },
  {
   "cell_type": "code",
   "execution_count": null,
   "metadata": {},
   "outputs": [],
   "source": []
  }
 ],
 "metadata": {
  "kernelspec": {
   "display_name": "Python 3",
   "language": "python",
   "name": "python3"
  },
  "language_info": {
   "codemirror_mode": {
    "name": "ipython",
    "version": 3
   },
   "file_extension": ".py",
   "mimetype": "text/x-python",
   "name": "python",
   "nbconvert_exporter": "python",
   "pygments_lexer": "ipython3",
   "version": "3.8.3"
  }
 },
 "nbformat": 4,
 "nbformat_minor": 4
}
